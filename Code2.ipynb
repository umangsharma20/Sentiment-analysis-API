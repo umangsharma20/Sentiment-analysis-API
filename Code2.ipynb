{
  "nbformat": 4,
  "nbformat_minor": 0,
  "metadata": {
    "colab": {
      "provenance": []
    },
    "kernelspec": {
      "name": "python3",
      "display_name": "Python 3"
    },
    "language_info": {
      "name": "python"
    }
  },
  "cells": [
    {
      "cell_type": "code",
      "execution_count": null,
      "metadata": {
        "colab": {
          "base_uri": "https://localhost:8080/"
        },
        "id": "u4JLcmztB9aN",
        "outputId": "8cbc8268-058d-435e-8845-362efc408868"
      },
      "outputs": [
        {
          "output_type": "stream",
          "name": "stdout",
          "text": [
            "{'scores': {'compound': 0.5983, 'neg': 0.0, 'neu': 0.435, 'pos': 0.565}, 'sentiment': 'positive'}\n"
          ]
        }
      ],
      "source": [
        "import requests\n",
        "\n",
        "url = 'https://8f04-34-74-141-65.ngrok-free.app/analyze'\n",
        "data = {'text': 'This course was fantastic!'}\n",
        "\n",
        "response = requests.post(url, json=data)\n",
        "print(response.json())\n"
      ]
    },
    {
      "cell_type": "code",
      "source": [
        "import requests\n",
        "import json\n",
        "\n",
        "# URL and data for the POST request\n",
        "url = 'https://8f04-34-74-141-65.ngrok-free.app/analyze'\n",
        "data = {'text': 'This course was fantastic!'}\n",
        "\n",
        "# Send the POST request and get the response\n",
        "response = requests.post(url, json=data)\n",
        "\n",
        "# Print the response JSON (for verification)\n",
        "print(response.json())\n",
        "\n",
        "# Save the response JSON to a file\n",
        "with open('response.json', 'w') as json_file:\n",
        "    json.dump(response.json(), json_file, indent=4)  # 'indent=4' for pretty-printing\n"
      ],
      "metadata": {
        "id": "udigFHRVCUC9"
      },
      "execution_count": null,
      "outputs": []
    }
  ]
}